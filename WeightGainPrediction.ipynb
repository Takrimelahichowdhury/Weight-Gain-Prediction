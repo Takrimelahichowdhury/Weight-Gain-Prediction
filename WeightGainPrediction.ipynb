{
  "cells": [
    {
      "cell_type": "markdown",
      "metadata": {
        "id": "view-in-github",
        "colab_type": "text"
      },
      "source": [
        "<a href=\"https://colab.research.google.com/github/Takrimelahichowdhury/Weight-Gain-Prediction/blob/master/WeightGainPrediction.ipynb\" target=\"_parent\"><img src=\"https://colab.research.google.com/assets/colab-badge.svg\" alt=\"Open In Colab\"/></a>"
      ]
    },
    {
      "cell_type": "code",
      "execution_count": null,
      "metadata": {
        "id": "12gH3iyMcsMY"
      },
      "outputs": [],
      "source": [
        "import pandas as pd\n",
        "import io"
      ]
    },
    {
      "cell_type": "code",
      "execution_count": null,
      "metadata": {
        "colab": {
          "background_save": true,
          "base_uri": "https://localhost:8080/"
        },
        "id": "BuMLalHJcEfH",
        "outputId": "22498c10-efeb-46f1-ff73-ebcb29a80e84"
      },
      "outputs": [
        {
          "data": {
            "text/html": [
              "\n",
              "     <input type=\"file\" id=\"files-75cffe0f-8a75-48b2-a78a-5b5e186a904f\" name=\"files[]\" multiple disabled\n",
              "        style=\"border:none\" />\n",
              "     <output id=\"result-75cffe0f-8a75-48b2-a78a-5b5e186a904f\">\n",
              "      Upload widget is only available when the cell has been executed in the\n",
              "      current browser session. Please rerun this cell to enable.\n",
              "      </output>\n",
              "      <script>// Copyright 2017 Google LLC\n",
              "//\n",
              "// Licensed under the Apache License, Version 2.0 (the \"License\");\n",
              "// you may not use this file except in compliance with the License.\n",
              "// You may obtain a copy of the License at\n",
              "//\n",
              "//      http://www.apache.org/licenses/LICENSE-2.0\n",
              "//\n",
              "// Unless required by applicable law or agreed to in writing, software\n",
              "// distributed under the License is distributed on an \"AS IS\" BASIS,\n",
              "// WITHOUT WARRANTIES OR CONDITIONS OF ANY KIND, either express or implied.\n",
              "// See the License for the specific language governing permissions and\n",
              "// limitations under the License.\n",
              "\n",
              "/**\n",
              " * @fileoverview Helpers for google.colab Python module.\n",
              " */\n",
              "(function(scope) {\n",
              "function span(text, styleAttributes = {}) {\n",
              "  const element = document.createElement('span');\n",
              "  element.textContent = text;\n",
              "  for (const key of Object.keys(styleAttributes)) {\n",
              "    element.style[key] = styleAttributes[key];\n",
              "  }\n",
              "  return element;\n",
              "}\n",
              "\n",
              "// Max number of bytes which will be uploaded at a time.\n",
              "const MAX_PAYLOAD_SIZE = 100 * 1024;\n",
              "\n",
              "function _uploadFiles(inputId, outputId) {\n",
              "  const steps = uploadFilesStep(inputId, outputId);\n",
              "  const outputElement = document.getElementById(outputId);\n",
              "  // Cache steps on the outputElement to make it available for the next call\n",
              "  // to uploadFilesContinue from Python.\n",
              "  outputElement.steps = steps;\n",
              "\n",
              "  return _uploadFilesContinue(outputId);\n",
              "}\n",
              "\n",
              "// This is roughly an async generator (not supported in the browser yet),\n",
              "// where there are multiple asynchronous steps and the Python side is going\n",
              "// to poll for completion of each step.\n",
              "// This uses a Promise to block the python side on completion of each step,\n",
              "// then passes the result of the previous step as the input to the next step.\n",
              "function _uploadFilesContinue(outputId) {\n",
              "  const outputElement = document.getElementById(outputId);\n",
              "  const steps = outputElement.steps;\n",
              "\n",
              "  const next = steps.next(outputElement.lastPromiseValue);\n",
              "  return Promise.resolve(next.value.promise).then((value) => {\n",
              "    // Cache the last promise value to make it available to the next\n",
              "    // step of the generator.\n",
              "    outputElement.lastPromiseValue = value;\n",
              "    return next.value.response;\n",
              "  });\n",
              "}\n",
              "\n",
              "/**\n",
              " * Generator function which is called between each async step of the upload\n",
              " * process.\n",
              " * @param {string} inputId Element ID of the input file picker element.\n",
              " * @param {string} outputId Element ID of the output display.\n",
              " * @return {!Iterable<!Object>} Iterable of next steps.\n",
              " */\n",
              "function* uploadFilesStep(inputId, outputId) {\n",
              "  const inputElement = document.getElementById(inputId);\n",
              "  inputElement.disabled = false;\n",
              "\n",
              "  const outputElement = document.getElementById(outputId);\n",
              "  outputElement.innerHTML = '';\n",
              "\n",
              "  const pickedPromise = new Promise((resolve) => {\n",
              "    inputElement.addEventListener('change', (e) => {\n",
              "      resolve(e.target.files);\n",
              "    });\n",
              "  });\n",
              "\n",
              "  const cancel = document.createElement('button');\n",
              "  inputElement.parentElement.appendChild(cancel);\n",
              "  cancel.textContent = 'Cancel upload';\n",
              "  const cancelPromise = new Promise((resolve) => {\n",
              "    cancel.onclick = () => {\n",
              "      resolve(null);\n",
              "    };\n",
              "  });\n",
              "\n",
              "  // Wait for the user to pick the files.\n",
              "  const files = yield {\n",
              "    promise: Promise.race([pickedPromise, cancelPromise]),\n",
              "    response: {\n",
              "      action: 'starting',\n",
              "    }\n",
              "  };\n",
              "\n",
              "  cancel.remove();\n",
              "\n",
              "  // Disable the input element since further picks are not allowed.\n",
              "  inputElement.disabled = true;\n",
              "\n",
              "  if (!files) {\n",
              "    return {\n",
              "      response: {\n",
              "        action: 'complete',\n",
              "      }\n",
              "    };\n",
              "  }\n",
              "\n",
              "  for (const file of files) {\n",
              "    const li = document.createElement('li');\n",
              "    li.append(span(file.name, {fontWeight: 'bold'}));\n",
              "    li.append(span(\n",
              "        `(${file.type || 'n/a'}) - ${file.size} bytes, ` +\n",
              "        `last modified: ${\n",
              "            file.lastModifiedDate ? file.lastModifiedDate.toLocaleDateString() :\n",
              "                                    'n/a'} - `));\n",
              "    const percent = span('0% done');\n",
              "    li.appendChild(percent);\n",
              "\n",
              "    outputElement.appendChild(li);\n",
              "\n",
              "    const fileDataPromise = new Promise((resolve) => {\n",
              "      const reader = new FileReader();\n",
              "      reader.onload = (e) => {\n",
              "        resolve(e.target.result);\n",
              "      };\n",
              "      reader.readAsArrayBuffer(file);\n",
              "    });\n",
              "    // Wait for the data to be ready.\n",
              "    let fileData = yield {\n",
              "      promise: fileDataPromise,\n",
              "      response: {\n",
              "        action: 'continue',\n",
              "      }\n",
              "    };\n",
              "\n",
              "    // Use a chunked sending to avoid message size limits. See b/62115660.\n",
              "    let position = 0;\n",
              "    do {\n",
              "      const length = Math.min(fileData.byteLength - position, MAX_PAYLOAD_SIZE);\n",
              "      const chunk = new Uint8Array(fileData, position, length);\n",
              "      position += length;\n",
              "\n",
              "      const base64 = btoa(String.fromCharCode.apply(null, chunk));\n",
              "      yield {\n",
              "        response: {\n",
              "          action: 'append',\n",
              "          file: file.name,\n",
              "          data: base64,\n",
              "        },\n",
              "      };\n",
              "\n",
              "      let percentDone = fileData.byteLength === 0 ?\n",
              "          100 :\n",
              "          Math.round((position / fileData.byteLength) * 100);\n",
              "      percent.textContent = `${percentDone}% done`;\n",
              "\n",
              "    } while (position < fileData.byteLength);\n",
              "  }\n",
              "\n",
              "  // All done.\n",
              "  yield {\n",
              "    response: {\n",
              "      action: 'complete',\n",
              "    }\n",
              "  };\n",
              "}\n",
              "\n",
              "scope.google = scope.google || {};\n",
              "scope.google.colab = scope.google.colab || {};\n",
              "scope.google.colab._files = {\n",
              "  _uploadFiles,\n",
              "  _uploadFilesContinue,\n",
              "};\n",
              "})(self);\n",
              "</script> "
            ],
            "text/plain": [
              "<IPython.core.display.HTML object>"
            ]
          },
          "metadata": {},
          "output_type": "display_data"
        }
      ],
      "source": [
        "from google.colab import files\n",
        "uploaded = files.upload()"
      ]
    },
    {
      "cell_type": "code",
      "execution_count": null,
      "metadata": {
        "id": "D3ZOSPROcXUX"
      },
      "outputs": [],
      "source": [
        "exercise_df1 = pd.read_csv(io.StringIO(uploaded['exercise_dataset.csv'].decode('utf-8')))"
      ]
    },
    {
      "cell_type": "code",
      "execution_count": null,
      "metadata": {
        "id": "V3mLlU6iXJcJ"
      },
      "outputs": [],
      "source": [
        "from google.colab import files\n",
        "uploaded = files.upload()\n"
      ]
    },
    {
      "cell_type": "code",
      "execution_count": null,
      "metadata": {
        "id": "gpSnzkq_b5fp"
      },
      "outputs": [],
      "source": [
        "exercise_df2 = pd.read_csv(io.StringIO(uploaded['exercise_dataset_2.csv'].decode('utf-8')))"
      ]
    },
    {
      "cell_type": "code",
      "execution_count": null,
      "metadata": {
        "id": "n8z163Ptb8WH"
      },
      "outputs": [],
      "source": [
        "print(exercise_df1.head())\n",
        "print(exercise_df2.head())\n"
      ]
    },
    {
      "cell_type": "code",
      "execution_count": null,
      "metadata": {
        "colab": {
          "base_uri": "https://localhost:8080/"
        },
        "id": "fltZOnBWdTPX",
        "outputId": "1af1e157-0bdc-41a9-a51e-a1c46cfb6b68"
      },
      "outputs": [
        {
          "name": "stdout",
          "output_type": "stream",
          "text": [
            "ID                    0\n",
            "Exercise              0\n",
            "Calories Burn         0\n",
            "Dream Weight          0\n",
            "Actual Weight         0\n",
            "Age                   0\n",
            "Gender                0\n",
            "Duration              0\n",
            "Heart Rate            0\n",
            "BMI                   0\n",
            "Weather Conditions    0\n",
            "Exercise Intensity    0\n",
            "dtype: int64\n"
          ]
        }
      ],
      "source": [
        "print(exercise_df2.isnull().sum())\n"
      ]
    },
    {
      "cell_type": "code",
      "execution_count": null,
      "metadata": {
        "id": "kB4FoR6VdWgo"
      },
      "outputs": [],
      "source": [
        "exercise_df2 = pd.get_dummies(exercise_df2, columns=['Gender', 'Weather Conditions'], drop_first=True)\n"
      ]
    },
    {
      "cell_type": "code",
      "execution_count": null,
      "metadata": {
        "id": "0HgS8Pr5dX7X"
      },
      "outputs": [],
      "source": [
        "exercise_df2['Weight Difference'] = exercise_df2['Dream Weight'] - exercise_df2['Actual Weight']\n"
      ]
    },
    {
      "cell_type": "code",
      "execution_count": null,
      "metadata": {
        "colab": {
          "base_uri": "https://localhost:8080/"
        },
        "id": "SlzfPh0udZ7v",
        "outputId": "1f91fe20-4c77-472e-eae5-d94632d7e03b"
      },
      "outputs": [
        {
          "name": "stdout",
          "output_type": "stream",
          "text": [
            "   ID     Exercise  Calories Burn  Dream Weight  Actual Weight  Age  Duration  \\\n",
            "0   1   Exercise 2     286.959851     91.892531      96.301115   45        37   \n",
            "1   2   Exercise 7     343.453036     64.165097      61.104668   25        43   \n",
            "2   3   Exercise 4     261.223465     70.846224      71.766724   20        20   \n",
            "3   4   Exercise 5     127.183858     79.477008      82.984456   33        39   \n",
            "4   5  Exercise 10     416.318374     89.960226      85.643174   29        34   \n",
            "\n",
            "   Heart Rate        BMI  Exercise Intensity  Gender_Male  \\\n",
            "0         170  29.426275                   5            1   \n",
            "1         142  21.286346                   5            1   \n",
            "2         148  27.899592                   4            1   \n",
            "3         170  33.729552                  10            1   \n",
            "4         118  23.286113                   3            0   \n",
            "\n",
            "   Weather Conditions_Rainy  Weather Conditions_Sunny  Weight Difference  \n",
            "0                         1                         0          -4.408585  \n",
            "1                         1                         0           3.060429  \n",
            "2                         0                         0          -0.920500  \n",
            "3                         0                         1          -3.507448  \n",
            "4                         0                         0           4.317052  \n"
          ]
        }
      ],
      "source": [
        "print(exercise_df2.head())\n"
      ]
    },
    {
      "cell_type": "code",
      "execution_count": null,
      "metadata": {
        "id": "xiPsrG7Fd2uv"
      },
      "outputs": [],
      "source": [
        "from sklearn.model_selection import train_test_split\n",
        "\n",
        "# Defining our features and target\n",
        "X = exercise_df2[['Actual Weight', 'Age', 'Gender_Male', 'Dream Weight', 'Duration', 'Heart Rate', 'BMI', 'Exercise Intensity', 'Weather Conditions_Rainy', 'Weather Conditions_Sunny']]\n",
        "y = exercise_df2['Calories Burn']\n",
        "\n",
        "# Splitting the data into training and testing sets (80% training, 20% testing)\n",
        "X_train, X_test, y_train, y_test = train_test_split(X, y, test_size=0.2, random_state=42)\n",
        "\n"
      ]
    },
    {
      "cell_type": "code",
      "execution_count": null,
      "metadata": {
        "colab": {
          "base_uri": "https://localhost:8080/"
        },
        "id": "KaWD5TC8d7VY",
        "outputId": "e589cd84-23f3-4211-88c4-7fd0ae6ada85"
      },
      "outputs": [
        {
          "name": "stdout",
          "output_type": "stream",
          "text": [
            "Training Mean Squared Error: 13435.92406084098\n"
          ]
        }
      ],
      "source": [
        "from sklearn.linear_model import LinearRegression\n",
        "from sklearn.metrics import mean_squared_error\n",
        "\n",
        "# Initialize the model\n",
        "lr_model = LinearRegression()\n",
        "\n",
        "# Train the model\n",
        "lr_model.fit(X_train, y_train)\n",
        "\n",
        "# Predict on the training set\n",
        "train_preds = lr_model.predict(X_train)\n",
        "\n",
        "# Calculate the mean squared error on the training data\n",
        "mse_train = mean_squared_error(y_train, train_preds)\n",
        "print(f\"Training Mean Squared Error: {mse_train}\")\n"
      ]
    },
    {
      "cell_type": "code",
      "execution_count": null,
      "metadata": {
        "colab": {
          "base_uri": "https://localhost:8080/"
        },
        "id": "VIyo7s45eFDv",
        "outputId": "418db59d-a1e6-4828-c586-2137081b0475"
      },
      "outputs": [
        {
          "name": "stdout",
          "output_type": "stream",
          "text": [
            "Testing Mean Squared Error: 13223.399280790924\n"
          ]
        }
      ],
      "source": [
        "# Predict on the testing set\n",
        "test_preds = lr_model.predict(X_test)\n",
        "\n",
        "# Calculate the mean squared error on the testing data\n",
        "mse_test = mean_squared_error(y_test, test_preds)\n",
        "print(f\"Testing Mean Squared Error: {mse_test}\")\n"
      ]
    },
    {
      "cell_type": "code",
      "execution_count": null,
      "metadata": {
        "id": "Xbq_mmnSeSzJ"
      },
      "outputs": [],
      "source": [
        "def recommend_exercise_and_calories(weight, age, gender_male, dream_weight, duration, heart_rate, bmi, intensity, rainy, sunny):\n",
        "    # Predicting the calories to burn\n",
        "    input_data = [[weight, age, gender_male, dream_weight, duration, heart_rate, bmi, intensity, rainy, sunny]]\n",
        "    predicted_calories = lr_model.predict(input_data)[0]\n",
        "\n",
        "    # Find the closest matching exercise\n",
        "    exercise_df1['calorie_difference'] = abs(exercise_df1['Calories per kg'] * weight - predicted_calories)\n",
        "    recommended_exercise = exercise_df1.loc[exercise_df1['calorie_difference'].idxmin()]['Activity, Exercise or Sport (1 hour)']\n",
        "\n",
        "    return recommended_exercise, predicted_calories"
      ]
    },
    {
      "cell_type": "code",
      "execution_count": null,
      "metadata": {
        "id": "ZZqUH72oeUIR"
      },
      "outputs": [],
      "source": [
        "user_weight = 90  # for example\n",
        "user_age = 75\n",
        "user_gender = 0  # Male: 1, Female: 0\n",
        "user_dream_weight = 75\n",
        "user_duration = 30\n",
        "user_heart_rate = 160\n",
        "user_bmi = 28\n",
        "user_intensity = 8\n",
        "user_rainy = 1\n",
        "user_sunny = 0\n",
        "\n",
        "# Call the function\n",
        "exercise, calories = recommend_exercise_and_calories(user_weight, user_age, user_gender, user_dream_weight, user_duration, user_heart_rate, user_bmi, user_intensity, user_rainy, user_sunny)\n",
        "\n",
        "print(f\"Recommended Exercise: {exercise}\")\n",
        "print(f\"Predicted Calories to Burn: {calories}\")\n"
      ]
    },
    {
      "cell_type": "code",
      "execution_count": null,
      "metadata": {
        "id": "97nw5SsggN-Y"
      },
      "outputs": [],
      "source": [
        "!pip install tensorflow\n"
      ]
    },
    {
      "cell_type": "code",
      "execution_count": null,
      "metadata": {
        "id": "g9A68jL1kBXP"
      },
      "outputs": [],
      "source": [
        "import tensorflow as tf\n",
        "from tensorflow import keras\n",
        "from tensorflow.keras import layers\n",
        "\n",
        "# Build a simple dense model with input shape as the number of features in X_train\n",
        "# Modified model for multi-output regression\n",
        "model = keras.Sequential([\n",
        "    layers.Input(shape=(X_train.shape[1],)),\n",
        "    layers.Dense(64, activation='relu'),\n",
        "    layers.Dense(32, activation='relu'),\n",
        "    layers.Dense(2)  # Two output neurons for regression: calories and weight difference\n",
        "])\n",
        "\n",
        "\n",
        "model.compile(optimizer='adam', loss='mean_squared_error')\n"
      ]
    },
    {
      "cell_type": "code",
      "execution_count": null,
      "metadata": {
        "colab": {
          "base_uri": "https://localhost:8080/"
        },
        "id": "Xs4TuiSElZkB",
        "outputId": "b7a3b701-9043-45c0-f082-5026a86074d6"
      },
      "outputs": [
        {
          "name": "stdout",
          "output_type": "stream",
          "text": [
            "Epoch 1/50\n",
            "78/78 [==============================] - 1s 3ms/step - loss: 55520.7500 - val_loss: 13986.9561\n",
            "Epoch 2/50\n",
            "78/78 [==============================] - 0s 2ms/step - loss: 14842.0596 - val_loss: 13869.7178\n",
            "Epoch 3/50\n",
            "78/78 [==============================] - 0s 2ms/step - loss: 14769.5859 - val_loss: 13824.1826\n",
            "Epoch 4/50\n",
            "78/78 [==============================] - 0s 2ms/step - loss: 14785.8076 - val_loss: 13775.9189\n",
            "Epoch 5/50\n",
            "78/78 [==============================] - 0s 2ms/step - loss: 14654.4873 - val_loss: 13742.7129\n",
            "Epoch 6/50\n",
            "78/78 [==============================] - 0s 2ms/step - loss: 14653.8154 - val_loss: 13709.9971\n",
            "Epoch 7/50\n",
            "78/78 [==============================] - 0s 2ms/step - loss: 14619.4404 - val_loss: 13694.1895\n",
            "Epoch 8/50\n",
            "78/78 [==============================] - 0s 2ms/step - loss: 14593.3984 - val_loss: 13722.4834\n",
            "Epoch 9/50\n",
            "78/78 [==============================] - 0s 2ms/step - loss: 14554.4160 - val_loss: 13687.7090\n",
            "Epoch 10/50\n",
            "78/78 [==============================] - 0s 2ms/step - loss: 14564.9336 - val_loss: 13764.5303\n",
            "Epoch 11/50\n",
            "78/78 [==============================] - 0s 2ms/step - loss: 14585.7041 - val_loss: 13695.5557\n",
            "Epoch 12/50\n",
            "78/78 [==============================] - 0s 2ms/step - loss: 14479.2285 - val_loss: 13929.7061\n",
            "Epoch 13/50\n",
            "78/78 [==============================] - 0s 2ms/step - loss: 14566.8643 - val_loss: 13717.9551\n",
            "Epoch 14/50\n",
            "78/78 [==============================] - 0s 2ms/step - loss: 14545.1348 - val_loss: 13658.8613\n",
            "Epoch 15/50\n",
            "78/78 [==============================] - 0s 2ms/step - loss: 14472.1777 - val_loss: 13661.2783\n",
            "Epoch 16/50\n",
            "78/78 [==============================] - 0s 2ms/step - loss: 14454.4736 - val_loss: 13689.9453\n",
            "Epoch 17/50\n",
            "78/78 [==============================] - 0s 2ms/step - loss: 14468.1211 - val_loss: 13702.8242\n",
            "Epoch 18/50\n",
            "78/78 [==============================] - 0s 2ms/step - loss: 14448.4111 - val_loss: 13797.0645\n",
            "Epoch 19/50\n",
            "78/78 [==============================] - 0s 2ms/step - loss: 14468.1680 - val_loss: 13670.9043\n",
            "Epoch 20/50\n",
            "78/78 [==============================] - 0s 2ms/step - loss: 14422.4014 - val_loss: 13670.7402\n",
            "Epoch 21/50\n",
            "78/78 [==============================] - 0s 2ms/step - loss: 14409.2041 - val_loss: 13670.8809\n",
            "Epoch 22/50\n",
            "78/78 [==============================] - 0s 2ms/step - loss: 14419.9727 - val_loss: 13693.9756\n",
            "Epoch 23/50\n",
            "78/78 [==============================] - 0s 2ms/step - loss: 14419.0020 - val_loss: 13688.4268\n",
            "Epoch 24/50\n",
            "78/78 [==============================] - 0s 2ms/step - loss: 14380.9551 - val_loss: 13704.2373\n",
            "Epoch 25/50\n",
            "78/78 [==============================] - 0s 2ms/step - loss: 14379.1748 - val_loss: 13697.3994\n",
            "Epoch 26/50\n",
            "78/78 [==============================] - 0s 2ms/step - loss: 14393.4434 - val_loss: 13683.5879\n",
            "Epoch 27/50\n",
            "78/78 [==============================] - 0s 2ms/step - loss: 14365.9951 - val_loss: 13705.5635\n",
            "Epoch 28/50\n",
            "78/78 [==============================] - 0s 2ms/step - loss: 14391.6426 - val_loss: 13704.7314\n",
            "Epoch 29/50\n",
            "78/78 [==============================] - 0s 2ms/step - loss: 14363.0713 - val_loss: 13705.7412\n",
            "Epoch 30/50\n",
            "78/78 [==============================] - 0s 2ms/step - loss: 14340.6895 - val_loss: 13742.4648\n",
            "Epoch 31/50\n",
            "78/78 [==============================] - 0s 2ms/step - loss: 14417.4775 - val_loss: 13721.1611\n",
            "Epoch 32/50\n",
            "78/78 [==============================] - 0s 2ms/step - loss: 14418.7051 - val_loss: 13716.0566\n",
            "Epoch 33/50\n",
            "78/78 [==============================] - 0s 2ms/step - loss: 14395.4160 - val_loss: 13730.5156\n",
            "Epoch 34/50\n",
            "78/78 [==============================] - 0s 2ms/step - loss: 14360.9160 - val_loss: 13785.9434\n",
            "Epoch 35/50\n",
            "78/78 [==============================] - 0s 2ms/step - loss: 14357.0713 - val_loss: 13801.1895\n",
            "Epoch 36/50\n",
            "78/78 [==============================] - 0s 2ms/step - loss: 14376.2441 - val_loss: 13799.0049\n",
            "Epoch 37/50\n",
            "78/78 [==============================] - 0s 2ms/step - loss: 14353.7051 - val_loss: 13759.6992\n",
            "Epoch 38/50\n",
            "78/78 [==============================] - 0s 2ms/step - loss: 14321.8613 - val_loss: 13748.4541\n",
            "Epoch 39/50\n",
            "78/78 [==============================] - 0s 2ms/step - loss: 14314.6699 - val_loss: 13763.1797\n",
            "Epoch 40/50\n",
            "78/78 [==============================] - 0s 2ms/step - loss: 14341.8613 - val_loss: 13757.2666\n",
            "Epoch 41/50\n",
            "78/78 [==============================] - 0s 2ms/step - loss: 14406.4287 - val_loss: 13760.4043\n",
            "Epoch 42/50\n",
            "78/78 [==============================] - 0s 2ms/step - loss: 14326.3818 - val_loss: 13775.4297\n",
            "Epoch 43/50\n",
            "78/78 [==============================] - 0s 2ms/step - loss: 14324.9219 - val_loss: 13823.6426\n",
            "Epoch 44/50\n",
            "78/78 [==============================] - 0s 2ms/step - loss: 14323.0488 - val_loss: 13763.2744\n",
            "Epoch 45/50\n",
            "78/78 [==============================] - 0s 2ms/step - loss: 14418.4600 - val_loss: 13768.1162\n",
            "Epoch 46/50\n",
            "78/78 [==============================] - 0s 2ms/step - loss: 14390.7881 - val_loss: 14020.5010\n",
            "Epoch 47/50\n",
            "78/78 [==============================] - 0s 2ms/step - loss: 14356.1719 - val_loss: 13778.5332\n",
            "Epoch 48/50\n",
            "78/78 [==============================] - 0s 2ms/step - loss: 14343.6260 - val_loss: 13784.2588\n",
            "Epoch 49/50\n",
            "78/78 [==============================] - 0s 2ms/step - loss: 14326.1064 - val_loss: 13787.5488\n",
            "Epoch 50/50\n",
            "78/78 [==============================] - 0s 2ms/step - loss: 14333.8545 - val_loss: 13972.2920\n"
          ]
        }
      ],
      "source": [
        "# Train the model with X_train and y_train\n",
        "history = model.fit(X_train, y_train, epochs=50, batch_size=32, validation_split=0.2, verbose=1)\n"
      ]
    },
    {
      "cell_type": "code",
      "execution_count": null,
      "metadata": {
        "colab": {
          "base_uri": "https://localhost:8080/"
        },
        "id": "GqWn-Wl3ld4J",
        "outputId": "2110fa00-dce3-466f-d2d5-bb6afec64490"
      },
      "outputs": [
        {
          "name": "stdout",
          "output_type": "stream",
          "text": [
            "25/25 [==============================] - 0s 1ms/step - loss: 14430.4609\n",
            "Test Loss: 14430.4609375\n"
          ]
        }
      ],
      "source": [
        "loss = model.evaluate(X_test, y_test, verbose=1)\n",
        "print(f\"Test Loss: {loss}\")\n"
      ]
    },
    {
      "cell_type": "code",
      "execution_count": null,
      "metadata": {
        "id": "zFoOf06Zljs4"
      },
      "outputs": [],
      "source": [
        "# Save the model in TensorFlow SavedModel format\n",
        "model.save(\"calories_exercise_model\")\n",
        "\n",
        "# Convert to TensorFlow Lite format\n",
        "converter = tf.lite.TFLiteConverter.from_keras_model(model)\n",
        "tflite_model = converter.convert()\n",
        "\n",
        "with open(\"calories_exercise_model.tflite\", \"wb\") as f:\n",
        "    f.write(tflite_model)\n"
      ]
    },
    {
      "cell_type": "code",
      "execution_count": null,
      "metadata": {
        "id": "mMmfkHfmm09I"
      },
      "outputs": [],
      "source": [
        "def recommend_exercise_tf_model(weight, age, gender_male, dream_weight, duration, heart_rate, bmi, intensity, rainy, sunny):\n",
        "    # Predicting the calories to burn using the TensorFlow model\n",
        "    input_data = [[weight, age, gender_male, dream_weight, duration, heart_rate, bmi, intensity, rainy, sunny]]\n",
        "    predicted_values = model.predict(input_data)\n",
        "    predicted_calories = predicted_values[0][0]  # Assuming calories prediction is the first output\n",
        "\n",
        "    # Find the closest matching exercise\n",
        "    exercise_df1['calorie_difference'] = abs(exercise_df1['Calories per kg'] * weight - predicted_calories)\n",
        "    recommended_exercise = exercise_df1.loc[exercise_df1['calorie_difference'].idxmin()]['Activity, Exercise or Sport (1 hour)']\n",
        "\n",
        "    return recommended_exercise, predicted_calories\n",
        "\n"
      ]
    },
    {
      "cell_type": "code",
      "source": [],
      "metadata": {
        "id": "YEY13Q0sOuCo"
      },
      "execution_count": null,
      "outputs": []
    },
    {
      "cell_type": "code",
      "execution_count": null,
      "metadata": {
        "colab": {
          "base_uri": "https://localhost:8080/"
        },
        "id": "F4mC4Xsznrei",
        "outputId": "fc775037-713b-4ac8-e6e9-4624380f699e"
      },
      "outputs": [
        {
          "name": "stdout",
          "output_type": "stream",
          "text": [
            "1/1 [==============================] - 0s 64ms/step\n",
            "Recommended Exercise (TF Model): Cross country skiing, uphill\n",
            "Predicted Calories to Burn (TF Model): 278.5006103515625\n"
          ]
        }
      ],
      "source": [
        "# Test the function\n",
        "exercise, calories = recommend_exercise_tf_model(user_weight, user_age, user_gender, user_dream_weight, user_duration, user_heart_rate, user_bmi, user_intensity, user_rainy, user_sunny)\n",
        "\n",
        "print(f\"Recommended Exercise (TF Model): {exercise}\")\n",
        "print(f\"Predicted Calories to Burn (TF Model): {calories}\")"
      ]
    }
  ],
  "metadata": {
    "colab": {
      "provenance": [],
      "include_colab_link": true
    },
    "kernelspec": {
      "display_name": "Python 3",
      "name": "python3"
    },
    "language_info": {
      "name": "python"
    }
  },
  "nbformat": 4,
  "nbformat_minor": 0
}